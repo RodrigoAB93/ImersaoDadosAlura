{
 "cells": [
  {
   "cell_type": "code",
   "execution_count": 18,
   "id": "5a7de6d0",
   "metadata": {},
   "outputs": [],
   "source": [
    "import seaborn as sns  \n",
    "import pandas as pd \n",
    "import matplotlib.pyplot as plt \n",
    "from sklearn.model_selection import train_test_split as tts \n",
    "from sklearn.svm import LinearSVR as lsvr \n",
    "from sklearn.dummy import DummyRegressor \n",
    "from sklearn.metrics import mean_squared_error \n",
    "from sklearn.tree import DecisionTreeRegressor \n",
    "from sklearn.model_selection import cross_validate \n",
    "from sklearn.model_selection import KFold  \n",
    "import numpy as np "
   ]
  },
  {
   "cell_type": "code",
   "execution_count": 2,
   "id": "d1840426",
   "metadata": {},
   "outputs": [],
   "source": [
    "source = \"./MICRODADOS_ENEM_2019_SAMPLE_43278.csv\"   \n",
    "dados = pd.read_csv(source)"
   ]
  },
  {
   "cell_type": "code",
   "execution_count": 3,
   "id": "29ca9837",
   "metadata": {},
   "outputs": [],
   "source": [
    "provas=[\"NU_NOTA_CN\",\"NU_NOTA_CH\",\"NU_NOTA_MT\",\"NU_NOTA_LC\",\"NU_NOTA_REDACAO\"]  \n",
    "provas_entrada= [\"NU_NOTA_CN\",\"NU_NOTA_CH\",\"NU_NOTA_LC\",\"NU_NOTA_REDACAO\"]  \n",
    "provas_saida = \"NU_NOTA_MT\" \n",
    "dados[\"NU_NOTA_TOTAL\"] = dados[provas].sum(axis=1)  \n",
    "provas.append(\"NU_NOTA_TOTAL\")"
   ]
  },
  {
   "cell_type": "code",
   "execution_count": 4,
   "id": "a673659f",
   "metadata": {},
   "outputs": [],
   "source": [
    "dados_sem_notas_zero = dados.query(\"NU_NOTA_TOTAL != 0\")  \n",
    "dados_sem_notas_zero = dados_sem_notas_zero[provas].dropna()\n",
    "notas_entrada = dados_sem_notas_zero[provas_entrada] \n",
    "notas_saida = dados_sem_notas_zero[provas_saida]"
   ]
  },
  {
   "cell_type": "code",
   "execution_count": 5,
   "id": "ec43f841",
   "metadata": {},
   "outputs": [],
   "source": [
    "x = notas_entrada \n",
    "y = notas_saida\n",
    "SEED=0\n",
    "x_treino, x_teste, y_treino,y_teste = tts(x,y, test_size =0.25, random_state = SEED )"
   ]
  },
  {
   "cell_type": "code",
   "execution_count": 6,
   "id": "2bf19899",
   "metadata": {},
   "outputs": [
    {
     "name": "stderr",
     "output_type": "stream",
     "text": [
      "C:\\Anaconda3\\lib\\site-packages\\sklearn\\svm\\_base.py:1206: ConvergenceWarning: Liblinear failed to converge, increase the number of iterations.\n",
      "  warnings.warn(\n"
     ]
    },
    {
     "data": {
      "text/plain": [
       "8326.795090241485"
      ]
     },
     "execution_count": 6,
     "metadata": {},
     "output_type": "execute_result"
    }
   ],
   "source": [
    "modelo = lsvr(random_state = SEED) \n",
    "modelo.fit(x_treino, y_treino) \n",
    "predicoes_matematica = modelo.predict(x_teste) \n",
    "mean_squared_error(y_teste, predicoes_matematica)"
   ]
  },
  {
   "cell_type": "code",
   "execution_count": 7,
   "id": "9205fa99",
   "metadata": {},
   "outputs": [],
   "source": [
    "modelo_arvore = DecisionTreeRegressor(max_depth = 3) \n",
    "modelo_arvore.fit(x_treino, y_treino) \n",
    "predicoes_matematica_arvore = modelo_arvore.predict(x_teste)"
   ]
  },
  {
   "cell_type": "code",
   "execution_count": 8,
   "id": "4ce16350",
   "metadata": {},
   "outputs": [
    {
     "data": {
      "text/plain": [
       "6042.239063673963"
      ]
     },
     "execution_count": 8,
     "metadata": {},
     "output_type": "execute_result"
    }
   ],
   "source": [
    "mean_squared_error(y_teste, predicoes_matematica_arvore)"
   ]
  },
  {
   "cell_type": "code",
   "execution_count": 9,
   "id": "be48bae2",
   "metadata": {},
   "outputs": [
    {
     "ename": "NameError",
     "evalue": "name 'train_test_split' is not defined",
     "output_type": "error",
     "traceback": [
      "\u001b[1;31m---------------------------------------------------------------------------\u001b[0m",
      "\u001b[1;31mNameError\u001b[0m                                 Traceback (most recent call last)",
      "\u001b[1;32m~\\AppData\\Local\\Temp/ipykernel_11924/886706845.py\u001b[0m in \u001b[0;36m<module>\u001b[1;34m\u001b[0m\n\u001b[1;32m----> 1\u001b[1;33m \u001b[0mx_treino\u001b[0m\u001b[1;33m,\u001b[0m \u001b[0mx_teste\u001b[0m\u001b[1;33m,\u001b[0m \u001b[0my_treino\u001b[0m\u001b[1;33m,\u001b[0m \u001b[0my_teste\u001b[0m \u001b[1;33m=\u001b[0m \u001b[0mtrain_test_split\u001b[0m\u001b[1;33m(\u001b[0m\u001b[0mx\u001b[0m\u001b[1;33m,\u001b[0m \u001b[0my\u001b[0m\u001b[1;33m,\u001b[0m \u001b[0mtest_size\u001b[0m\u001b[1;33m=\u001b[0m\u001b[1;36m0.25\u001b[0m\u001b[1;33m)\u001b[0m\u001b[1;33m\u001b[0m\u001b[1;33m\u001b[0m\u001b[0m\n\u001b[0m\u001b[0;32m      2\u001b[0m \u001b[0mmodelo_arvore\u001b[0m \u001b[1;33m=\u001b[0m \u001b[0mDecisionTreeRegresssor\u001b[0m\u001b[1;33m(\u001b[0m\u001b[0mmax_depth\u001b[0m \u001b[1;33m=\u001b[0m\u001b[1;36m3\u001b[0m\u001b[1;33m)\u001b[0m\u001b[1;33m\u001b[0m\u001b[1;33m\u001b[0m\u001b[0m\n\u001b[0;32m      3\u001b[0m \u001b[0mmodelo_arvore\u001b[0m\u001b[1;33m.\u001b[0m\u001b[0mfit\u001b[0m\u001b[1;33m(\u001b[0m\u001b[0mx_treino\u001b[0m\u001b[1;33m,\u001b[0m \u001b[0my_treino\u001b[0m\u001b[1;33m)\u001b[0m\u001b[1;33m\u001b[0m\u001b[1;33m\u001b[0m\u001b[0m\n\u001b[0;32m      4\u001b[0m \u001b[0mpredicoes_matematica_arvore\u001b[0m \u001b[1;33m=\u001b[0m \u001b[0mmodelo_arvoe\u001b[0m\u001b[1;33m.\u001b[0m\u001b[0mpredict\u001b[0m\u001b[1;33m(\u001b[0m\u001b[0mx_teste\u001b[0m\u001b[1;33m)\u001b[0m\u001b[1;33m\u001b[0m\u001b[1;33m\u001b[0m\u001b[0m\n\u001b[0;32m      5\u001b[0m \u001b[0mmean_squared_error\u001b[0m\u001b[1;33m(\u001b[0m\u001b[0my_teste\u001b[0m\u001b[1;33m,\u001b[0m \u001b[0mpredicoes_matematica_arvore\u001b[0m\u001b[1;33m)\u001b[0m\u001b[1;33m\u001b[0m\u001b[1;33m\u001b[0m\u001b[0m\n",
      "\u001b[1;31mNameError\u001b[0m: name 'train_test_split' is not defined"
     ]
    }
   ],
   "source": [
    "x_treino, x_teste, y_treino, y_teste = train_test_split(x, y, test_size=0.25) \n",
    "modelo_arvore = DecisionTreeRegresssor(max_depth =3) \n",
    "modelo_arvore.fit(x_treino, y_treino) \n",
    "predicoes_matematica_arvore = modelo_arvoe.predict(x_teste)\n",
    "mean_squared_error(y_teste, predicoes_matematica_arvore)"
   ]
  },
  {
   "cell_type": "code",
   "execution_count": 10,
   "id": "b5c8b3ac",
   "metadata": {},
   "outputs": [
    {
     "name": "stdout",
     "output_type": "stream",
     "text": [
      "Intervalo de confiança 6015.722549536813 - 7100.732779780728\n"
     ]
    }
   ],
   "source": [
    "modelo_arvore = DecisionTreeRegressor(max_depth=2)\n",
    "resultados = cross_validate(modelo_arvore, x, y, cv=10,scoring=\"neg_mean_squared_error\") \n",
    "media=(resultados[\"test_score\"]*-1).mean() \n",
    "desvio_padrao = (resultados[\"test_score\"]*-1).std() \n",
    "lim_inferior = media - (2*desvio_padrao)\n",
    "lim_superior = media + (2*desvio_padrao)   \n",
    "\n",
    "print(f\"Intervalo de confiança {lim_inferior} - {lim_superior}\")"
   ]
  },
  {
   "cell_type": "code",
   "execution_count": 11,
   "id": "28923e7a",
   "metadata": {},
   "outputs": [
    {
     "data": {
      "text/plain": [
       "array([6118.6911947 , 6536.09830186, 6338.64260896, 6456.70685686,\n",
       "       6234.97203593, 6794.25120283, 6713.45694262, 6693.04880297,\n",
       "       6610.58461646, 7085.82408339])"
      ]
     },
     "execution_count": 11,
     "metadata": {},
     "output_type": "execute_result"
    }
   ],
   "source": [
    " \n",
    "resultados[\"test_score\"]*-1"
   ]
  },
  {
   "cell_type": "code",
   "execution_count": 12,
   "id": "55d8dc6e",
   "metadata": {},
   "outputs": [
    {
     "data": {
      "text/plain": [
       "6558.227664658771"
      ]
     },
     "execution_count": 12,
     "metadata": {},
     "output_type": "execute_result"
    }
   ],
   "source": [
    "media\n"
   ]
  },
  {
   "cell_type": "code",
   "execution_count": 16,
   "id": "60a6b3f5",
   "metadata": {},
   "outputs": [],
   "source": [
    "def calcula_mse(resultados): \n",
    "    media = (resultados[\"test_score\"]*-1).mean() \n",
    "    desvio_padrao = (resultados[\"test_score\"]*-1).std() \n",
    "    lim_inferior = media - (2*desvio_padrao) \n",
    "    lim_superior = media + (2*desvio_padrao) \n",
    "    print(f\"Intervalo de confiança){lim_inferior} - {lim_superior}\")"
   ]
  },
  {
   "cell_type": "code",
   "execution_count": 19,
   "id": "44964a6e",
   "metadata": {},
   "outputs": [
    {
     "name": "stdout",
     "output_type": "stream",
     "text": [
      "Intervalo de confiança)6015.72254953681 - 7100.7327797807275\n"
     ]
    }
   ],
   "source": [
    "SEED=1232 \n",
    "np.random.seed(SEED)\n",
    "\n",
    "partes = KFold(n_splits = 10,shuffle=True)\n",
    "modelo_arvore = DecisionTreeRegressor(max_depth=2)\n",
    "resultados = cross_validate(modelo_arvore, x, y, cv=10,scoring=\"neg_mean_squared_error\")  \n",
    "calcula_mse(resultados)"
   ]
  },
  {
   "cell_type": "code",
   "execution_count": 28,
   "id": "75481752",
   "metadata": {},
   "outputs": [
    {
     "name": "stdout",
     "output_type": "stream",
     "text": [
      "Treino = 5762.147132221031\n"
     ]
    }
   ],
   "source": [
    "def regressor_arvore(nivel): \n",
    "    partes = KFold(n_splits = 10, shuffle = True) \n",
    "    modelo_arvore = DecisionTreeRegressor(max_depth = nivel) \n",
    "    resultados = cross_validate(modelo_arvore, x, y, cv = partes, scoring = \"neg_mean_squared_error\", return_train_score=True) \n",
    "    print(f\"Treino = {(resultados['train_score']*-1).mean()}\") \n",
    "\n",
    "regressor_arvore(4)"
   ]
  },
  {
   "cell_type": "code",
   "execution_count": 29,
   "id": "3fd2b25a",
   "metadata": {},
   "outputs": [
    {
     "name": "stdout",
     "output_type": "stream",
     "text": [
      "Treino = 7844.843618526051\n",
      "Treino = 6528.336682918988\n",
      "Treino = 6022.091710810749\n",
      "Treino = 5761.244157211646\n",
      "Treino = 5597.846796244104\n",
      "Treino = 5470.227874160579\n",
      "Treino = 5369.740635618833\n",
      "Treino = 5278.619591194736\n",
      "Treino = 5168.117468009821\n",
      "Treino = 5025.196008825713\n",
      "Treino = 4838.718210302915\n",
      "Treino = 4599.2641286152875\n",
      "Treino = 4327.543886766787\n",
      "Treino = 4015.429430130612\n",
      "Treino = 3672.586450637528\n",
      "Treino = 3307.2237835265996\n",
      "Treino = 2937.4942366624346\n",
      "Treino = 2580.5542206157456\n",
      "Treino = 2240.826879703134\n",
      "Treino = 1948.2405522087752\n"
     ]
    }
   ],
   "source": [
    "for i in range(1,21): \n",
    "    regressor_arvore(i)"
   ]
  }
 ],
 "metadata": {
  "kernelspec": {
   "display_name": "Python 3 (ipykernel)",
   "language": "python",
   "name": "python3"
  },
  "language_info": {
   "codemirror_mode": {
    "name": "ipython",
    "version": 3
   },
   "file_extension": ".py",
   "mimetype": "text/x-python",
   "name": "python",
   "nbconvert_exporter": "python",
   "pygments_lexer": "ipython3",
   "version": "3.8.12"
  }
 },
 "nbformat": 4,
 "nbformat_minor": 5
}
