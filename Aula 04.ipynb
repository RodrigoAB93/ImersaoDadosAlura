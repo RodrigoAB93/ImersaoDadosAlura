{
 "cells": [
  {
   "cell_type": "code",
   "execution_count": 1,
   "id": "57fa4cdc",
   "metadata": {},
   "outputs": [],
   "source": [
    "import seaborn as sns  \n",
    "import pandas as pd \n",
    "import matplotlib.pyplot as plt \n",
    "from sklearn.model_selection import train_test_split as tts \n",
    "from sklearn.svm import LinearSVR as lsvr"
   ]
  },
  {
   "cell_type": "code",
   "execution_count": 2,
   "id": "ed110911",
   "metadata": {},
   "outputs": [],
   "source": [
    "source = \"./MICRODADOS_ENEM_2019_SAMPLE_43278.csv\"   \n",
    "dados = pd.read_csv(source)"
   ]
  },
  {
   "cell_type": "code",
   "execution_count": 3,
   "id": "8fa9f7de",
   "metadata": {},
   "outputs": [],
   "source": [
    "provas=[\"NU_NOTA_CN\",\"NU_NOTA_CH\",\"NU_NOTA_MT\",\"NU_NOTA_LC\",\"NU_NOTA_REDACAO\"]  \n",
    "provas_entrada= [\"NU_NOTA_CN\",\"NU_NOTA_CH\",\"NU_NOTA_LC\",\"NU_NOTA_REDACAO\"]  \n",
    "provas_saida = \"NU_NOTA_MT\" \n",
    "dados[\"NU_NOTA_TOTAL\"] = dados[provas].sum(axis=1)  \n",
    "provas.append(\"NU_NOTA_TOTAL\")"
   ]
  },
  {
   "cell_type": "code",
   "execution_count": 4,
   "id": "a54b9eb7",
   "metadata": {},
   "outputs": [],
   "source": [
    "dados_sem_notas_zero = dados.query(\"NU_NOTA_TOTAL != 0\")  \n",
    "dados_sem_notas_zero = dados_sem_notas_zero[provas].dropna()\n",
    "notas_entrada = dados_sem_notas_zero[provas_entrada] \n",
    "notas_saida = dados_sem_notas_zero[provas_saida]"
   ]
  },
  {
   "cell_type": "code",
   "execution_count": 5,
   "id": "5d57051e",
   "metadata": {},
   "outputs": [],
   "source": [
    "x = notas_entrada \n",
    "y = notas_saida"
   ]
  },
  {
   "cell_type": "code",
   "execution_count": 6,
   "id": "779c1cee",
   "metadata": {},
   "outputs": [
    {
     "data": {
      "text/plain": [
       "[        NU_NOTA_CN  NU_NOTA_CH  NU_NOTA_LC  NU_NOTA_REDACAO\n",
       " 115669       352.6       352.1       490.5            360.0\n",
       " 69052        418.6       366.5       374.0              0.0\n",
       " 8741         520.7       587.1       546.4            600.0\n",
       " 98790        365.7       444.6       468.1            560.0\n",
       " 64868        611.4       586.5       577.5            860.0\n",
       " ...            ...         ...         ...              ...\n",
       " 71770        470.8       609.7       555.4            600.0\n",
       " 247          497.8       446.9       500.9            700.0\n",
       " 19293        471.3       549.1       526.7            620.0\n",
       " 86924        519.2       588.6       585.9            560.0\n",
       " 34926        659.1       634.3       649.3            840.0\n",
       " \n",
       " [69402 rows x 4 columns],\n",
       "         NU_NOTA_CN  NU_NOTA_CH  NU_NOTA_LC  NU_NOTA_REDACAO\n",
       " 81764        493.2       581.1       556.1            560.0\n",
       " 590          502.8       552.8       498.6            580.0\n",
       " 38805        403.0       563.9       516.9            640.0\n",
       " 108469       457.4       466.1       462.3            340.0\n",
       " 40411        514.5       548.2       555.5            800.0\n",
       " ...            ...         ...         ...              ...\n",
       " 115520       382.9       420.5       377.3            320.0\n",
       " 56046        505.6       414.3       384.1            380.0\n",
       " 17575        453.3       577.0       536.6            480.0\n",
       " 65471        483.5       502.1       533.7            620.0\n",
       " 56001        448.1       393.0       375.1              0.0\n",
       " \n",
       " [23135 rows x 4 columns],\n",
       " 115669    408.4\n",
       " 69052     374.4\n",
       " 8741      601.3\n",
       " 98790     438.8\n",
       " 64868     616.2\n",
       "           ...  \n",
       " 71770     643.5\n",
       " 247       384.3\n",
       " 19293     470.2\n",
       " 86924     574.0\n",
       " 34926     724.7\n",
       " Name: NU_NOTA_MT, Length: 69402, dtype: float64,\n",
       " 81764     641.4\n",
       " 590       556.7\n",
       " 38805     552.6\n",
       " 108469    490.3\n",
       " 40411     683.5\n",
       "           ...  \n",
       " 115520    526.2\n",
       " 56046     455.3\n",
       " 17575     420.0\n",
       " 65471     595.2\n",
       " 56001     430.5\n",
       " Name: NU_NOTA_MT, Length: 23135, dtype: float64]"
      ]
     },
     "execution_count": 6,
     "metadata": {},
     "output_type": "execute_result"
    }
   ],
   "source": [
    "tts(x,y)"
   ]
  },
  {
   "cell_type": "code",
   "execution_count": 7,
   "id": "06ba60ae",
   "metadata": {},
   "outputs": [],
   "source": [
    "SEED=0\n",
    "x_treino, x_teste, y_treino,y_teste = tts(x,y, test_size =0.25, random_state = SEED )"
   ]
  },
  {
   "cell_type": "code",
   "execution_count": 8,
   "id": "88dcfe62",
   "metadata": {},
   "outputs": [
    {
     "data": {
      "text/html": [
       "<div>\n",
       "<style scoped>\n",
       "    .dataframe tbody tr th:only-of-type {\n",
       "        vertical-align: middle;\n",
       "    }\n",
       "\n",
       "    .dataframe tbody tr th {\n",
       "        vertical-align: top;\n",
       "    }\n",
       "\n",
       "    .dataframe thead th {\n",
       "        text-align: right;\n",
       "    }\n",
       "</style>\n",
       "<table border=\"1\" class=\"dataframe\">\n",
       "  <thead>\n",
       "    <tr style=\"text-align: right;\">\n",
       "      <th></th>\n",
       "      <th>NU_NOTA_CN</th>\n",
       "      <th>NU_NOTA_CH</th>\n",
       "      <th>NU_NOTA_LC</th>\n",
       "      <th>NU_NOTA_REDACAO</th>\n",
       "    </tr>\n",
       "  </thead>\n",
       "  <tbody>\n",
       "    <tr>\n",
       "      <th>92248</th>\n",
       "      <td>604.4</td>\n",
       "      <td>645.3</td>\n",
       "      <td>595.5</td>\n",
       "      <td>980.0</td>\n",
       "    </tr>\n",
       "    <tr>\n",
       "      <th>86057</th>\n",
       "      <td>531.6</td>\n",
       "      <td>558.7</td>\n",
       "      <td>534.3</td>\n",
       "      <td>920.0</td>\n",
       "    </tr>\n",
       "    <tr>\n",
       "      <th>55061</th>\n",
       "      <td>512.3</td>\n",
       "      <td>627.6</td>\n",
       "      <td>584.3</td>\n",
       "      <td>880.0</td>\n",
       "    </tr>\n",
       "    <tr>\n",
       "      <th>120165</th>\n",
       "      <td>495.4</td>\n",
       "      <td>560.0</td>\n",
       "      <td>534.9</td>\n",
       "      <td>540.0</td>\n",
       "    </tr>\n",
       "    <tr>\n",
       "      <th>56853</th>\n",
       "      <td>369.0</td>\n",
       "      <td>533.1</td>\n",
       "      <td>487.3</td>\n",
       "      <td>460.0</td>\n",
       "    </tr>\n",
       "  </tbody>\n",
       "</table>\n",
       "</div>"
      ],
      "text/plain": [
       "        NU_NOTA_CN  NU_NOTA_CH  NU_NOTA_LC  NU_NOTA_REDACAO\n",
       "92248        604.4       645.3       595.5            980.0\n",
       "86057        531.6       558.7       534.3            920.0\n",
       "55061        512.3       627.6       584.3            880.0\n",
       "120165       495.4       560.0       534.9            540.0\n",
       "56853        369.0       533.1       487.3            460.0"
      ]
     },
     "execution_count": 8,
     "metadata": {},
     "output_type": "execute_result"
    }
   ],
   "source": [
    "x_treino.head()"
   ]
  },
  {
   "cell_type": "code",
   "execution_count": 9,
   "id": "85dd8266",
   "metadata": {},
   "outputs": [
    {
     "name": "stderr",
     "output_type": "stream",
     "text": [
      "C:\\Anaconda3\\lib\\site-packages\\sklearn\\svm\\_base.py:1206: ConvergenceWarning: Liblinear failed to converge, increase the number of iterations.\n",
      "  warnings.warn(\n"
     ]
    },
    {
     "data": {
      "text/plain": [
       "LinearSVR(random_state=0)"
      ]
     },
     "execution_count": 9,
     "metadata": {},
     "output_type": "execute_result"
    }
   ],
   "source": [
    "modelo = lsvr(random_state = 0,max_iter=1000) \n",
    "\n",
    "modelo.fit(x_treino, y_treino)"
   ]
  },
  {
   "cell_type": "code",
   "execution_count": 10,
   "id": "5e51773e",
   "metadata": {},
   "outputs": [],
   "source": [
    "predicoes_matematica = modelo.predict(x_teste)"
   ]
  },
  {
   "cell_type": "code",
   "execution_count": 11,
   "id": "c60426f5",
   "metadata": {},
   "outputs": [
    {
     "data": {
      "text/plain": [
       "4984      372.7\n",
       "18022     513.6\n",
       "93468     602.2\n",
       "44286     618.7\n",
       "117917    539.0\n",
       "Name: NU_NOTA_MT, dtype: float64"
      ]
     },
     "execution_count": 11,
     "metadata": {},
     "output_type": "execute_result"
    }
   ],
   "source": [
    "y_teste[:5]"
   ]
  },
  {
   "cell_type": "code",
   "execution_count": 13,
   "id": "cb97e69a",
   "metadata": {},
   "outputs": [
    {
     "data": {
      "text/plain": [
       "<AxesSubplot:ylabel='NU_NOTA_MT'>"
      ]
     },
     "execution_count": 13,
     "metadata": {},
     "output_type": "execute_result"
    },
    {
     "data": {
      "image/png": "[encoded data removed]",
      "text/plain": [
       "<Figure size 432x288 with 1 Axes>"
      ]
     },
     "metadata": {
      "needs_background": "light"
     },
     "output_type": "display_data"
    }
   ],
   "source": [
    "sns.scatterplot(x = predicoes_matematica, y=y_teste)"
   ]
  },
  {
   "cell_type": "code",
   "execution_count": null,
   "id": "5f9e9e1f",
   "metadata": {},
   "outputs": [],
   "source": []
  },
  {
   "cell_type": "code",
   "execution_count": null,
   "id": "9349e857",
   "metadata": {},
   "outputs": [],
   "source": []
  }
 ],
 "metadata": {
  "kernelspec": {
   "display_name": "Python 3 (ipykernel)",
   "language": "python",
   "name": "python3"
  },
  "language_info": {
   "codemirror_mode": {
    "name": "ipython",
    "version": 3
   },
   "file_extension": ".py",
   "mimetype": "text/x-python",
   "name": "python",
   "nbconvert_exporter": "python",
   "pygments_lexer": "ipython3",
   "version": "3.8.12"
  }
 },
 "nbformat": 4,
 "nbformat_minor": 5
}
